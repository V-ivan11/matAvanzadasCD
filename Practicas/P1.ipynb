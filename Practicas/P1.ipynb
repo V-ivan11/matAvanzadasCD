{
 "cells": [
  {
   "cell_type": "markdown",
   "id": "1ddde24b",
   "metadata": {},
   "source": [
    "## Método para abonar en una tarjeta de crédito"
   ]
  },
  {
   "cell_type": "code",
   "execution_count": null,
   "id": "5f760d30",
   "metadata": {},
   "outputs": [],
   "source": [
    "def abonar(self, abono):\n",
    "    self._balance = self_balance - abono "
   ]
  },
  {
   "cell_type": "markdown",
   "id": "40c7d4a5",
   "metadata": {},
   "source": [
    "## Personaje (clase)"
   ]
  },
  {
   "cell_type": "code",
   "execution_count": null,
   "id": "975f489a",
   "metadata": {},
   "outputs": [],
   "source": [
    "class Personaje:\n",
    "    \n",
    "    def __init__(self, nombre, edad, genero, altura, peso, direccion):\n",
    "        self._nombre = nombre\n",
    "        self._edad = edad\n",
    "        self._genero = genero\n",
    "        self._altura = altura\n",
    "        self._peso = peso\n",
    "        self._direccion = direccion\n",
    "        \n",
    "        def get_nombre(self):\n",
    "            return self._nombre\n",
    "        \n",
    "        def get_edad(self):\n",
    "            return self._edad\n",
    "\n",
    "        def get_genero(self):\n",
    "            return self._genero\n",
    "        \n",
    "        def get_altura(self):\n",
    "            return self._altura\n",
    "        \n",
    "        def get_peso(self):\n",
    "            return self._peso\n",
    "        \n",
    "        def get_direccion(self):\n",
    "            return self._direccion\n",
    "        \n",
    "        def isCumpleanos(self):\n",
    "            self._edad += 1\n",
    "        \n",
    "        def cambio_peso(self, kilos):\n",
    "            self._peso += kilos"
   ]
  },
  {
   "cell_type": "markdown",
   "id": "8687184f",
   "metadata": {},
   "source": [
    "## Dia después del 2017"
   ]
  },
  {
   "cell_type": "code",
   "execution_count": 19,
   "id": "093ff3e8",
   "metadata": {},
   "outputs": [
    {
     "name": "stdout",
     "output_type": "stream",
     "text": [
      "11 35 22 13\n"
     ]
    }
   ],
   "source": [
    "segundos = 350000000\n",
    "anio = 2017\n",
    "\n",
    "def calcular_tiempo(anio, segundos):\n",
    "    segundos_anios = (365*24*60*60)\n",
    "    segundos_dia = (24*60*60)\n",
    "    anios = segundos // segundos_anios\n",
    "    dia = (segundos - (segundos_anios*anios)) // segundos_dia\n",
    "    hora = (segundos - (segundos_anios*anios + segundos_dia*dia)) // 60*60\n",
    "    hora = hora//(60*60)\n",
    "    minuto = (segundos - (segundos_anios*anios + segundos_dia*dia + 60*60*hora)) // 60\n",
    "    segundo = \n",
    "    print(anios, dia, hora, minuto)\n",
    "    \n",
    "calcular_tiempo(anio, segundos)"
   ]
  },
  {
   "cell_type": "code",
   "execution_count": null,
   "id": "20c9d98d",
   "metadata": {},
   "outputs": [],
   "source": [
    "def calcular_tiempoR(anio, segundos):\n",
    "    if segundos < 60:\n",
    "        return\n",
    "    "
   ]
  }
 ],
 "metadata": {
  "kernelspec": {
   "display_name": "Python 3 (ipykernel)",
   "language": "python",
   "name": "python3"
  },
  "language_info": {
   "codemirror_mode": {
    "name": "ipython",
    "version": 3
   },
   "file_extension": ".py",
   "mimetype": "text/x-python",
   "name": "python",
   "nbconvert_exporter": "python",
   "pygments_lexer": "ipython3",
   "version": "3.9.12"
  }
 },
 "nbformat": 4,
 "nbformat_minor": 5
}
